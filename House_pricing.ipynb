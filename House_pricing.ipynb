{
 "cells": [
  {
   "cell_type": "code",
   "execution_count": 1,
   "metadata": {},
   "outputs": [],
   "source": [
    "import numpy as np\n",
    "import pandas as pd\n",
    "import seaborn as sns\n",
    "import matplotlib.pyplot as plt\n",
    "%matplotlib inline"
   ]
  },
  {
   "cell_type": "code",
   "execution_count": 2,
   "metadata": {},
   "outputs": [],
   "source": [
    "train_data = pd.read_csv('train.csv')\n",
    "test_data = pd.read_csv('test.csv')"
   ]
  },
  {
   "cell_type": "code",
   "execution_count": 92,
   "metadata": {
    "scrolled": true
   },
   "outputs": [],
   "source": [
    "X = train_data.drop('SalePrice',axis = 1)\n",
    "Y = train_data.SalePrice\n",
    "Xt = test_data\n",
    "numeric_cols =test_data.columns[test_data.dtypes != 'object'].values\n",
    "categorical_cols = list(set(X.columns.values.tolist()) - set(numeric_cols))"
   ]
  },
  {
   "cell_type": "code",
   "execution_count": 95,
   "metadata": {},
   "outputs": [
    {
     "name": "stderr",
     "output_type": "stream",
     "text": [
      "C:\\Anaconda3\\lib\\site-packages\\pandas\\core\\generic.py:5430: SettingWithCopyWarning: \n",
      "A value is trying to be set on a copy of a slice from a DataFrame\n",
      "\n",
      "See the caveats in the documentation: http://pandas.pydata.org/pandas-docs/stable/indexing.html#indexing-view-versus-copy\n",
      "  self._update_inplace(new_data)\n",
      "C:\\Anaconda3\\lib\\site-packages\\pandas\\core\\frame.py:3795: SettingWithCopyWarning: \n",
      "A value is trying to be set on a copy of a slice from a DataFrame\n",
      "\n",
      "See the caveats in the documentation: http://pandas.pydata.org/pandas-docs/stable/indexing.html#indexing-view-versus-copy\n",
      "  method=method)\n"
     ]
    }
   ],
   "source": [
    "X_num = X[numeric_cols]\n",
    "X_cat = X[categorical_cols]\n",
    "X_num.LotFrontage.fillna(value = X_num.LotFrontage.mean(),inplace=True)\n",
    "X_num.MasVnrArea.fillna(value = X_num.MasVnrArea.median(),inplace=True)\n",
    "X_num.GarageYrBlt.fillna(value = X_num.GarageYrBlt.median(),inplace=True)\n",
    "X_cat.replace(np.nan,'NA',inplace=True)\n",
    "\n",
    "Xt_num = Xt[numeric_cols]\n",
    "Xt_cat = Xt[categorical_cols]\n",
    "Xt_num.LotFrontage.fillna(value = Xt_num.LotFrontage.mean(),inplace=True)\n",
    "Xt_num.MasVnrArea.fillna(value = Xt_num.MasVnrArea.median(),inplace=True)\n",
    "Xt_num.BsmtFinSF1.fillna(value = Xt_num.BsmtFinSF1.median(),inplace=True)\n",
    "Xt_num.BsmtFinSF2.fillna(value = Xt_num.BsmtFinSF2.median(),inplace=True)\n",
    "Xt_num.BsmtUnfSF.fillna(value = Xt_num.BsmtUnfSF.median(),inplace=True)\n",
    "Xt_num.TotalBsmtSF.fillna(value = Xt_num.TotalBsmtSF.median(),inplace=True)\n",
    "Xt_num.BsmtFullBath.fillna(value = Xt_num.BsmtFullBath.median(),inplace=True)\n",
    "Xt_num.BsmtHalfBath.fillna(value = Xt_num.BsmtHalfBath.median(),inplace=True)\n",
    "Xt_num.GarageYrBlt.fillna(value = Xt_num.GarageYrBlt.median(),inplace=True)\n",
    "Xt_num.GarageCars.fillna(value = Xt_num.GarageCars.median(),inplace=True)\n",
    "Xt_num.GarageArea.fillna(value = Xt_num.GarageArea.median(),inplace=True)\n",
    "Xt_cat.replace(np.nan,'NA',inplace=True)"
   ]
  },
  {
   "cell_type": "code",
   "execution_count": 6,
   "metadata": {},
   "outputs": [
    {
     "name": "stderr",
     "output_type": "stream",
     "text": [
      "C:\\Anaconda3\\lib\\site-packages\\ipykernel_launcher.py:2: SettingWithCopyWarning: \n",
      "A value is trying to be set on a copy of a slice from a DataFrame.\n",
      "Try using .loc[row_indexer,col_indexer] = value instead\n",
      "\n",
      "See the caveats in the documentation: http://pandas.pydata.org/pandas-docs/stable/indexing.html#indexing-view-versus-copy\n",
      "  \n",
      "C:\\Anaconda3\\lib\\site-packages\\ipykernel_launcher.py:4: SettingWithCopyWarning: \n",
      "A value is trying to be set on a copy of a slice from a DataFrame.\n",
      "Try using .loc[row_indexer,col_indexer] = value instead\n",
      "\n",
      "See the caveats in the documentation: http://pandas.pydata.org/pandas-docs/stable/indexing.html#indexing-view-versus-copy\n",
      "  after removing the cwd from sys.path.\n"
     ]
    }
   ],
   "source": [
    "for i in X_cat:\n",
    "    X_cat[i] = X_cat[i].apply(str)\n",
    "for j in Xt_cat:\n",
    "    Xt_cat[j] = Xt_cat[j].apply(str)"
   ]
  },
  {
   "cell_type": "markdown",
   "metadata": {},
   "source": [
    "Мы преобразуем категориальный признак при помощи бинарного кода: каждой категории ставим в соответствие набор из нулей и единиц"
   ]
  },
  {
   "cell_type": "code",
   "execution_count": 7,
   "metadata": {},
   "outputs": [],
   "source": [
    "from sklearn.feature_extraction import DictVectorizer as DV\n",
    "\n",
    "encoder = DV(sparse=False)\n",
    "X_cat_oh = encoder.fit_transform(X_cat.T.to_dict().values())\n",
    "Xt_cat_oh = encoder.transform(Xt_cat.T.to_dict().values())"
   ]
  },
  {
   "cell_type": "code",
   "execution_count": 8,
   "metadata": {},
   "outputs": [
    {
     "name": "stderr",
     "output_type": "stream",
     "text": [
      "C:\\Anaconda3\\lib\\site-packages\\sklearn\\cross_validation.py:41: DeprecationWarning: This module was deprecated in version 0.18 in favor of the model_selection module into which all the refactored classes and functions are moved. Also note that the interface of the new CV iterators are different from that of this module. This module will be removed in 0.20.\n",
      "  \"This module will be removed in 0.20.\", DeprecationWarning)\n"
     ]
    }
   ],
   "source": [
    "from sklearn import cross_validation, linear_model, metrics\n",
    "from sklearn.model_selection import cross_val_score\n",
    "from sklearn.model_selection import KFold\n",
    "from sklearn.metrics import mean_squared_error"
   ]
  },
  {
   "cell_type": "code",
   "execution_count": 9,
   "metadata": {},
   "outputs": [],
   "source": [
    "(X_cat_train, X_cat_test,  y_train, y_test) = cross_validation.train_test_split(X_cat_oh, Y, \n",
    "                                     test_size=0.3, \n",
    "                                     random_state=0)\n",
    "(X_num_train, X_num_test) = cross_validation.train_test_split(X_num, test_size=0.3, random_state=0)"
   ]
  },
  {
   "cell_type": "code",
   "execution_count": 17,
   "metadata": {},
   "outputs": [],
   "source": [
    "# Признаки для обучения методом кроссвалидации\n",
    "X_cv = np.hstack((X_num,X_cat_oh))"
   ]
  },
  {
   "cell_type": "code",
   "execution_count": 52,
   "metadata": {},
   "outputs": [],
   "source": [
    "from sklearn.ensemble import BaggingRegressor\n",
    "from sklearn.ensemble import AdaBoostRegressor\n",
    "from sklearn import svm\n",
    "from sklearn.metrics import make_scorer"
   ]
  },
  {
   "cell_type": "code",
   "execution_count": 53,
   "metadata": {},
   "outputs": [],
   "source": [
    "def rmsle_score(train, pred):\n",
    "    rmsle_score = (np.sum((np.log1p(train)-np.log1p(pred))**2)/len(pred))**0.5\n",
    "    return rmsle_score"
   ]
  },
  {
   "cell_type": "code",
   "execution_count": 57,
   "metadata": {},
   "outputs": [],
   "source": [
    "def test_model(model, X_train, y_train):\n",
    "    rmsle  = make_scorer(rmsle_score)\n",
    "    cv = KFold(n_splits=5,shuffle=True,random_state=45)\n",
    "    rmsle_score_cv  = cross_val_score(model, X_train, y_train, cv = cv ,scoring = rmsle)\n",
    "    score=[rmsle_score_cv .mean()]\n",
    "    \n",
    "    return score"
   ]
  },
  {
   "cell_type": "code",
   "execution_count": 79,
   "metadata": {},
   "outputs": [],
   "source": [
    "def fit_models(X_train, y_train):\n",
    "    results={}\n",
    "    \n",
    "    model = linear_model.LinearRegression()\n",
    "    results[\"Linear\"]=test_model(model, X_train, y_train)\n",
    "    \n",
    "    model = linear_model.Ridge()\n",
    "    results[\"Ridge\"]=test_model(model, X_train, y_train)\n",
    "    \n",
    "    model = linear_model.BayesianRidge()\n",
    "    results[\"Bayesian Ridge\"]=test_model(model, X_train, y_train)\n",
    "    \n",
    "    model = linear_model.HuberRegressor()\n",
    "    results[\"Hubber\"]=test_model(model, X_train, y_train)\n",
    "    \n",
    "    model = linear_model.Lasso(alpha=1e-4)\n",
    "    results[\"Lasso\"]=test_model(model, X_train, y_train)\n",
    "    \n",
    "    model = BaggingRegressor()\n",
    "    results[\"Bagging\"]=test_model(model, X_train, y_train)\n",
    "    \n",
    "    model = AdaBoostRegressor()\n",
    "    results[\"AdaBoost\"]=test_model(model, X_train, y_train)\n",
    "    \n",
    "    model = svm.SVR()\n",
    "    results[\"SVM RBF\"]=test_model(model, X_train, y_train)\n",
    "    \n",
    "    model = svm.SVR(kernel=\"linear\")\n",
    "    results[\"SVM Linear\"]=test_model(model, X_train, y_train)\n",
    "    \n",
    "    results = pd.DataFrame.from_dict(results,orient='index')\n",
    "    results.columns=[\"Square Score\"] \n",
    "    results = results.sort_values(\"Square Score\", ascending=True)\n",
    "    \n",
    "    return results"
   ]
  },
  {
   "cell_type": "code",
   "execution_count": 80,
   "metadata": {},
   "outputs": [
    {
     "name": "stderr",
     "output_type": "stream",
     "text": [
      "C:\\Anaconda3\\lib\\site-packages\\ipykernel_launcher.py:2: RuntimeWarning: invalid value encountered in log1p\n",
      "  \n",
      "C:\\Anaconda3\\lib\\site-packages\\ipykernel_launcher.py:2: RuntimeWarning: invalid value encountered in log1p\n",
      "  \n",
      "C:\\Anaconda3\\lib\\site-packages\\ipykernel_launcher.py:2: RuntimeWarning: invalid value encountered in log1p\n",
      "  \n",
      "C:\\Anaconda3\\lib\\site-packages\\sklearn\\linear_model\\coordinate_descent.py:491: ConvergenceWarning: Objective did not converge. You might want to increase the number of iterations. Fitting data with very small alpha may cause precision problems.\n",
      "  ConvergenceWarning)\n",
      "C:\\Anaconda3\\lib\\site-packages\\sklearn\\linear_model\\coordinate_descent.py:491: ConvergenceWarning: Objective did not converge. You might want to increase the number of iterations. Fitting data with very small alpha may cause precision problems.\n",
      "  ConvergenceWarning)\n",
      "C:\\Anaconda3\\lib\\site-packages\\sklearn\\linear_model\\coordinate_descent.py:491: ConvergenceWarning: Objective did not converge. You might want to increase the number of iterations. Fitting data with very small alpha may cause precision problems.\n",
      "  ConvergenceWarning)\n",
      "C:\\Anaconda3\\lib\\site-packages\\ipykernel_launcher.py:2: RuntimeWarning: invalid value encountered in log1p\n",
      "  \n",
      "C:\\Anaconda3\\lib\\site-packages\\sklearn\\linear_model\\coordinate_descent.py:491: ConvergenceWarning: Objective did not converge. You might want to increase the number of iterations. Fitting data with very small alpha may cause precision problems.\n",
      "  ConvergenceWarning)\n",
      "C:\\Anaconda3\\lib\\site-packages\\sklearn\\linear_model\\coordinate_descent.py:491: ConvergenceWarning: Objective did not converge. You might want to increase the number of iterations. Fitting data with very small alpha may cause precision problems.\n",
      "  ConvergenceWarning)\n"
     ]
    },
    {
     "data": {
      "text/html": [
       "<div>\n",
       "<style scoped>\n",
       "    .dataframe tbody tr th:only-of-type {\n",
       "        vertical-align: middle;\n",
       "    }\n",
       "\n",
       "    .dataframe tbody tr th {\n",
       "        vertical-align: top;\n",
       "    }\n",
       "\n",
       "    .dataframe thead th {\n",
       "        text-align: right;\n",
       "    }\n",
       "</style>\n",
       "<table border=\"1\" class=\"dataframe\">\n",
       "  <thead>\n",
       "    <tr style=\"text-align: right;\">\n",
       "      <th></th>\n",
       "      <th>Square Score</th>\n",
       "    </tr>\n",
       "  </thead>\n",
       "  <tbody>\n",
       "    <tr>\n",
       "      <th>Bagging</th>\n",
       "      <td>0.154394</td>\n",
       "    </tr>\n",
       "    <tr>\n",
       "      <th>Bayesian Ridge</th>\n",
       "      <td>0.156863</td>\n",
       "    </tr>\n",
       "    <tr>\n",
       "      <th>Ridge</th>\n",
       "      <td>0.161101</td>\n",
       "    </tr>\n",
       "    <tr>\n",
       "      <th>Lasso</th>\n",
       "      <td>0.176130</td>\n",
       "    </tr>\n",
       "    <tr>\n",
       "      <th>Linear</th>\n",
       "      <td>0.191390</td>\n",
       "    </tr>\n",
       "    <tr>\n",
       "      <th>SVM Linear</th>\n",
       "      <td>0.194121</td>\n",
       "    </tr>\n",
       "    <tr>\n",
       "      <th>AdaBoost</th>\n",
       "      <td>0.198565</td>\n",
       "    </tr>\n",
       "    <tr>\n",
       "      <th>Hubber</th>\n",
       "      <td>0.215247</td>\n",
       "    </tr>\n",
       "    <tr>\n",
       "      <th>SVM RBF</th>\n",
       "      <td>0.399660</td>\n",
       "    </tr>\n",
       "  </tbody>\n",
       "</table>\n",
       "</div>"
      ],
      "text/plain": [
       "                Square Score\n",
       "Bagging             0.154394\n",
       "Bayesian Ridge      0.156863\n",
       "Ridge               0.161101\n",
       "Lasso               0.176130\n",
       "Linear              0.191390\n",
       "SVM Linear          0.194121\n",
       "AdaBoost            0.198565\n",
       "Hubber              0.215247\n",
       "SVM RBF             0.399660"
      ]
     },
     "execution_count": 80,
     "metadata": {},
     "output_type": "execute_result"
    }
   ],
   "source": [
    "fit_models(X_cv, Y)"
   ]
  },
  {
   "cell_type": "code",
   "execution_count": 65,
   "metadata": {},
   "outputs": [
    {
     "data": {
      "text/plain": [
       "1047894776.9176257"
      ]
     },
     "execution_count": 65,
     "metadata": {},
     "output_type": "execute_result"
    }
   ],
   "source": [
    "# Признаки для обучения после единственного разбиения методом train_test_split\n",
    "X_un_train = np.hstack((X_num_train,X_cat_train))  #обучающая выборка численные + категориальные признаки\n",
    "X_un_test = np.hstack((X_num_test,X_cat_test))     #тестовая выборка для оценки качества обучения\n",
    "Xt_un_test = np.hstack((Xt_num,Xt_cat_oh))         #целевая выборка, для которой необходимо построить предсказания\n",
    "\n",
    "model = BaggingRegressor()\n",
    "model.fit(X_un_train, y_train)\n",
    "Y_un_test = model.predict(X_un_test)\n",
    "rmsle_score(Y_un_test,y_test)\n",
    "mean_squared_error(Y_un_test,y_test)"
   ]
  },
  {
   "cell_type": "code",
   "execution_count": 78,
   "metadata": {},
   "outputs": [
    {
     "name": "stdout",
     "output_type": "stream",
     "text": [
      "        Id  SalePrice\n",
      "0     1461   131390.0\n",
      "1     1462   158465.0\n",
      "2     1463   180100.0\n",
      "3     1464   183275.0\n",
      "4     1465   216692.6\n",
      "5     1466   192900.0\n",
      "6     1467   160810.0\n",
      "7     1468   178469.0\n",
      "8     1469   182219.5\n",
      "9     1470   123325.0\n",
      "10    1471   188259.0\n",
      "11    1472    92740.0\n",
      "12    1473   102550.0\n",
      "13    1474   161525.0\n",
      "14    1475   147603.5\n",
      "15    1476   369270.5\n",
      "16    1477   258822.6\n",
      "17    1478   296749.3\n",
      "18    1479   292196.3\n",
      "19    1480   504345.1\n",
      "20    1481   276626.3\n",
      "21    1482   204600.0\n",
      "22    1483   173255.4\n",
      "23    1484   174982.5\n",
      "24    1485   173643.5\n",
      "25    1486   184700.0\n",
      "26    1487   263550.0\n",
      "27    1488   232739.8\n",
      "28    1489   204208.0\n",
      "29    1490   181310.0\n",
      "...    ...        ...\n",
      "1429  2890    93270.0\n",
      "1430  2891   146550.0\n",
      "1431  2892    69160.0\n",
      "1432  2893   117500.0\n",
      "1433  2894    61790.0\n",
      "1434  2895   316438.7\n",
      "1435  2896   325865.2\n",
      "1436  2897   203090.0\n",
      "1437  2898   155016.4\n",
      "1438  2899   232518.0\n",
      "1439  2900   151679.0\n",
      "1440  2901   183280.0\n",
      "1441  2902   188386.4\n",
      "1442  2903   374326.6\n",
      "1443  2904   342635.8\n",
      "1444  2905   107390.0\n",
      "1445  2906   215085.6\n",
      "1446  2907   114150.0\n",
      "1447  2908   129350.0\n",
      "1448  2909   153963.4\n",
      "1449  2910    93600.0\n",
      "1450  2911    84580.0\n",
      "1451  2912   158483.2\n",
      "1452  2913    92650.0\n",
      "1453  2914    84590.0\n",
      "1454  2915    89700.0\n",
      "1455  2916    88750.0\n",
      "1456  2917   157970.0\n",
      "1457  2918   100900.0\n",
      "1458  2919   242880.0\n",
      "\n",
      "[1459 rows x 2 columns]\n"
     ]
    }
   ],
   "source": [
    "real_predictions = model.predict(Xt_un_test)\n",
    "submission = pd.DataFrame({'Id':test_data.Id.values,'SalePrice':real_predictions})\n",
    "print(submission)\n",
    "submission.to_csv(\"submission.csv\",index=False)"
   ]
  },
  {
   "cell_type": "code",
   "execution_count": null,
   "metadata": {},
   "outputs": [],
   "source": []
  }
 ],
 "metadata": {
  "kernelspec": {
   "display_name": "Python 3",
   "language": "python",
   "name": "python3"
  },
  "language_info": {
   "codemirror_mode": {
    "name": "ipython",
    "version": 3
   },
   "file_extension": ".py",
   "mimetype": "text/x-python",
   "name": "python",
   "nbconvert_exporter": "python",
   "pygments_lexer": "ipython3",
   "version": "3.6.5"
  }
 },
 "nbformat": 4,
 "nbformat_minor": 2
}
